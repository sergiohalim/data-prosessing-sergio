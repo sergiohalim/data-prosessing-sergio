{
  "cells": [
    {
      "cell_type": "markdown",
      "source": [
        "Nama : Bernadus Sergio Halim\n",
        "Nim : 0706022210056\n",
        "Tanggal pemberian tugas : 22/2/2025\n",
        "\n"
      ],
      "metadata": {
        "id": "nXGAAf-Y8c10"
      },
      "id": "nXGAAf-Y8c10"
    },
    {
      "cell_type": "markdown",
      "id": "google",
      "metadata": {
        "id": "google"
      },
      "source": [
        "##### Copyright 2025 Google LLC."
      ]
    },
    {
      "cell_type": "markdown",
      "id": "apache",
      "metadata": {
        "id": "apache"
      },
      "source": [
        "Licensed under the Apache License, Version 2.0 (the \"License\");\n",
        "you may not use this file except in compliance with the License.\n",
        "You may obtain a copy of the License at\n",
        "\n",
        "    http://www.apache.org/licenses/LICENSE-2.0\n",
        "\n",
        "Unless required by applicable law or agreed to in writing, software\n",
        "distributed under the License is distributed on an \"AS IS\" BASIS,\n",
        "WITHOUT WARRANTIES OR CONDITIONS OF ANY KIND, either express or implied.\n",
        "See the License for the specific language governing permissions and\n",
        "limitations under the License.\n"
      ]
    },
    {
      "cell_type": "markdown",
      "id": "basename",
      "metadata": {
        "id": "basename"
      },
      "source": [
        "# vrp"
      ]
    },
    {
      "cell_type": "markdown",
      "id": "link",
      "metadata": {
        "id": "link"
      },
      "source": [
        "<table align=\"left\">\n",
        "<td>\n",
        "<a href=\"https://colab.research.google.com/github/google/or-tools/blob/main/examples/notebook/constraint_solver/vrp.ipynb\"><img src=\"https://raw.githubusercontent.com/google/or-tools/main/tools/colab_32px.png\"/>Run in Google Colab</a>\n",
        "</td>\n",
        "<td>\n",
        "<a href=\"https://github.com/google/or-tools/blob/main/ortools/constraint_solver/samples/vrp.py\"><img src=\"https://raw.githubusercontent.com/google/or-tools/main/tools/github_32px.png\"/>View source on GitHub</a>\n",
        "</td>\n",
        "</table>"
      ]
    },
    {
      "cell_type": "markdown",
      "id": "doc",
      "metadata": {
        "id": "doc"
      },
      "source": [
        "First, you must install [ortools](https://pypi.org/project/ortools/) package in this colab."
      ]
    },
    {
      "cell_type": "code",
      "execution_count": 1,
      "id": "install",
      "metadata": {
        "id": "install",
        "outputId": "a79e314d-02d2-42d4-9d16-a008cb59e941",
        "colab": {
          "base_uri": "https://localhost:8080/"
        }
      },
      "outputs": [
        {
          "output_type": "stream",
          "name": "stdout",
          "text": [
            "Collecting ortools\n",
            "  Downloading ortools-9.12.4544-cp311-cp311-manylinux_2_27_x86_64.manylinux_2_28_x86_64.whl.metadata (3.3 kB)\n",
            "Collecting absl-py>=2.0.0 (from ortools)\n",
            "  Downloading absl_py-2.1.0-py3-none-any.whl.metadata (2.3 kB)\n",
            "Requirement already satisfied: numpy>=1.13.3 in /usr/local/lib/python3.11/dist-packages (from ortools) (1.26.4)\n",
            "Requirement already satisfied: pandas>=2.0.0 in /usr/local/lib/python3.11/dist-packages (from ortools) (2.2.2)\n",
            "Collecting protobuf<5.30,>=5.29.3 (from ortools)\n",
            "  Downloading protobuf-5.29.3-cp38-abi3-manylinux2014_x86_64.whl.metadata (592 bytes)\n",
            "Requirement already satisfied: immutabledict>=3.0.0 in /usr/local/lib/python3.11/dist-packages (from ortools) (4.2.1)\n",
            "Requirement already satisfied: python-dateutil>=2.8.2 in /usr/local/lib/python3.11/dist-packages (from pandas>=2.0.0->ortools) (2.8.2)\n",
            "Requirement already satisfied: pytz>=2020.1 in /usr/local/lib/python3.11/dist-packages (from pandas>=2.0.0->ortools) (2025.1)\n",
            "Requirement already satisfied: tzdata>=2022.7 in /usr/local/lib/python3.11/dist-packages (from pandas>=2.0.0->ortools) (2025.1)\n",
            "Requirement already satisfied: six>=1.5 in /usr/local/lib/python3.11/dist-packages (from python-dateutil>=2.8.2->pandas>=2.0.0->ortools) (1.17.0)\n",
            "Downloading ortools-9.12.4544-cp311-cp311-manylinux_2_27_x86_64.manylinux_2_28_x86_64.whl (24.9 MB)\n",
            "\u001b[2K   \u001b[90m━━━━━━━━━━━━━━━━━━━━━━━━━━━━━━━━━━━━━━━━\u001b[0m \u001b[32m24.9/24.9 MB\u001b[0m \u001b[31m53.3 MB/s\u001b[0m eta \u001b[36m0:00:00\u001b[0m\n",
            "\u001b[?25hDownloading absl_py-2.1.0-py3-none-any.whl (133 kB)\n",
            "\u001b[2K   \u001b[90m━━━━━━━━━━━━━━━━━━━━━━━━━━━━━━━━━━━━━━━━\u001b[0m \u001b[32m133.7/133.7 kB\u001b[0m \u001b[31m7.8 MB/s\u001b[0m eta \u001b[36m0:00:00\u001b[0m\n",
            "\u001b[?25hDownloading protobuf-5.29.3-cp38-abi3-manylinux2014_x86_64.whl (319 kB)\n",
            "\u001b[2K   \u001b[90m━━━━━━━━━━━━━━━━━━━━━━━━━━━━━━━━━━━━━━━━\u001b[0m \u001b[32m319.7/319.7 kB\u001b[0m \u001b[31m19.2 MB/s\u001b[0m eta \u001b[36m0:00:00\u001b[0m\n",
            "\u001b[?25hInstalling collected packages: protobuf, absl-py, ortools\n",
            "  Attempting uninstall: protobuf\n",
            "    Found existing installation: protobuf 4.25.6\n",
            "    Uninstalling protobuf-4.25.6:\n",
            "      Successfully uninstalled protobuf-4.25.6\n",
            "  Attempting uninstall: absl-py\n",
            "    Found existing installation: absl-py 1.4.0\n",
            "    Uninstalling absl-py-1.4.0:\n",
            "      Successfully uninstalled absl-py-1.4.0\n",
            "Successfully installed absl-py-2.1.0 ortools-9.12.4544 protobuf-5.29.3\n"
          ]
        }
      ],
      "source": [
        "%pip install ortools"
      ]
    },
    {
      "cell_type": "markdown",
      "id": "description",
      "metadata": {
        "id": "description"
      },
      "source": [
        "\n",
        "Simple Vehicles Routing Problem (VRP).\n",
        "\n",
        "This is a sample using the routing library python wrapper to solve a VRP\n",
        "problem.\n",
        "A description of the problem can be found here:\n",
        "http://en.wikipedia.org/wiki/Vehicle_routing_problem.\n",
        "\n",
        "Distances are in meters.\n",
        "\n"
      ]
    },
    {
      "cell_type": "code",
      "execution_count": null,
      "id": "code",
      "metadata": {
        "id": "code"
      },
      "outputs": [],
      "source": [
        "from ortools.constraint_solver import routing_enums_pb2\n",
        "from ortools.constraint_solver import pywrapcp\n",
        "\n",
        "\n",
        "\n",
        "def create_data_model():\n",
        "    \"\"\"Stores the data for the problem.\"\"\"\n",
        "    data = {}\n",
        "    data[\"distance_matrix\"] = [\n",
        "        # fmt: off\n",
        "      [0, 548, 776, 696, 582, 274, 502, 194, 308, 194, 536, 502, 388, 354, 468, 776, 662],\n",
        "      [548, 0, 684, 308, 194, 502, 730, 354, 696, 742, 1084, 594, 480, 674, 1016, 868, 1210],\n",
        "      [776, 684, 0, 992, 878, 502, 274, 810, 468, 742, 400, 1278, 1164, 1130, 788, 1552, 754],\n",
        "      [696, 308, 992, 0, 114, 650, 878, 502, 844, 890, 1232, 514, 628, 822, 1164, 560, 1358],\n",
        "      [582, 194, 878, 114, 0, 536, 764, 388, 730, 776, 1118, 400, 514, 708, 1050, 674, 1244],\n",
        "      [274, 502, 502, 650, 536, 0, 228, 308, 194, 240, 582, 776, 662, 628, 514, 1050, 708],\n",
        "      [502, 730, 274, 878, 764, 228, 0, 536, 194, 468, 354, 1004, 890, 856, 514, 1278, 480],\n",
        "      [194, 354, 810, 502, 388, 308, 536, 0, 342, 388, 730, 468, 354, 320, 662, 742, 856],\n",
        "      [308, 696, 468, 844, 730, 194, 194, 342, 0, 274, 388, 810, 696, 662, 320, 1084, 514],\n",
        "      [194, 742, 742, 890, 776, 240, 468, 388, 274, 0, 342, 536, 422, 388, 274, 810, 468],\n",
        "      [536, 1084, 400, 1232, 1118, 582, 354, 730, 388, 342, 0, 878, 764, 730, 388, 1152, 354],\n",
        "      [502, 594, 1278, 514, 400, 776, 1004, 468, 810, 536, 878, 0, 114, 308, 650, 274, 844],\n",
        "      [388, 480, 1164, 628, 514, 662, 890, 354, 696, 422, 764, 114, 0, 194, 536, 388, 730],\n",
        "      [354, 674, 1130, 822, 708, 628, 856, 320, 662, 388, 730, 308, 194, 0, 342, 422, 536],\n",
        "      [468, 1016, 788, 1164, 1050, 514, 514, 662, 320, 274, 388, 650, 536, 342, 0, 764, 194],\n",
        "      [776, 868, 1552, 560, 674, 1050, 1278, 742, 1084, 810, 1152, 274, 388, 422, 764, 0, 798],\n",
        "      [662, 1210, 754, 1358, 1244, 708, 480, 856, 514, 468, 354, 844, 730, 536, 194, 798, 0],\n",
        "        # fmt: on\n",
        "    ]\n",
        "    data[\"num_vehicles\"] = 4\n",
        "    data[\"depot\"] = 0\n",
        "    return data\n",
        "\n",
        "\n",
        "def print_solution(data, manager, routing, solution):\n",
        "    \"\"\"Prints solution on console.\"\"\"\n",
        "    print(f\"Objective: {solution.ObjectiveValue()}\")\n",
        "    total_distance = 0\n",
        "    for vehicle_index in range(manager.GetNumberOfVehicles()):\n",
        "        if not routing.IsVehicleUsed(solution, vehicle_index):\n",
        "            continue\n",
        "        index = routing.Start(vehicle_index)\n",
        "        plan_output = f\"Route for vehicle {vehicle_index}:\\n\"\n",
        "        route_distance = 0\n",
        "        while not routing.IsEnd(index):\n",
        "            plan_output += f\" {manager.IndexToNode(index)} ->\"\n",
        "            previous_index = index\n",
        "            index = solution.Value(routing.NextVar(index))\n",
        "            route_distance += routing.GetArcCostForVehicle(\n",
        "                previous_index, index, vehicle_index\n",
        "            )\n",
        "        plan_output += f\" {manager.IndexToNode(index)}\\n\"\n",
        "        plan_output += f\"Distance of the route: {route_distance}m\\n\"\n",
        "        print(plan_output)\n",
        "        total_distance += route_distance\n",
        "    print(f\"Total Distance of all routes: {total_distance}m\")\n",
        "\n",
        "\n",
        "\n",
        "def main():\n",
        "    \"\"\"Entry point of the program.\"\"\"\n",
        "    # Instantiate the data problem.\n",
        "    data = create_data_model()\n",
        "\n",
        "    # Create the routing index manager.\n",
        "    manager = pywrapcp.RoutingIndexManager(\n",
        "        len(data[\"distance_matrix\"]), data[\"num_vehicles\"], data[\"depot\"]\n",
        "    )\n",
        "\n",
        "    # Create Routing Model.\n",
        "    routing = pywrapcp.RoutingModel(manager)\n",
        "\n",
        "    # Create and register a transit callback.\n",
        "    def distance_callback(from_index, to_index):\n",
        "        \"\"\"Returns the distance between the two nodes.\"\"\"\n",
        "        # Convert from routing variable Index to distance matrix NodeIndex.\n",
        "        from_node = manager.IndexToNode(from_index)\n",
        "        to_node = manager.IndexToNode(to_index)\n",
        "        return data[\"distance_matrix\"][from_node][to_node]\n",
        "\n",
        "    transit_callback_index = routing.RegisterTransitCallback(distance_callback)\n",
        "\n",
        "    # Define cost of each arc.\n",
        "    routing.SetArcCostEvaluatorOfAllVehicles(transit_callback_index)\n",
        "\n",
        "    # Setting first solution heuristic.\n",
        "    search_parameters = pywrapcp.DefaultRoutingSearchParameters()\n",
        "    search_parameters.first_solution_strategy = (\n",
        "        routing_enums_pb2.FirstSolutionStrategy.PATH_CHEAPEST_ARC\n",
        "    )\n",
        "\n",
        "    # Solve the problem.\n",
        "    solution = routing.SolveWithParameters(search_parameters)\n",
        "\n",
        "    # Print solution on console.\n",
        "    if solution:\n",
        "        print_solution(data, manager, routing, solution)\n",
        "    else:\n",
        "        print(\"No solution found !\")\n",
        "\n",
        "\n",
        "main()\n",
        "\n"
      ]
    },
    {
      "cell_type": "markdown",
      "source": [
        "Data yang Diberikan\n",
        "Lokasi: Depot (0), Pelanggan (1, 2, 3, 4)\n",
        "Matriks Jarak (biaya perjalanan antara lokasi):\n",
        "Dari \\ Ke\t0\t1\t2\t3\t4\n",
        "0 (Depot)\t0\t10\t15\t20\t25\n",
        "1\t10\t0\t35\t25\t30\n",
        "2\t15\t35\t0\t30\t20\n",
        "3\t20\t25\t30\t0\t15\n",
        "4\t25\t30\t20\t15\t0\n",
        "Kapasitas Kendaraan: 10 unit\n",
        "Permintaan Pelanggan:\n",
        "Pelanggan 1 → 4 unit\n",
        "Pelanggan 2 → 2 unit\n",
        "Pelanggan 3 → 3 unit\n",
        "Pelanggan 4 → 1 unit\n",
        "Tujuan\n",
        "Menemukan rute optimal yang meminimalkan total jarak sambil memastikan semua pengiriman selesai."
      ],
      "metadata": {
        "id": "a1firHWn7_s_"
      },
      "id": "a1firHWn7_s_"
    },
    {
      "cell_type": "code",
      "source": [
        "from ortools.constraint_solver import pywrapcp, routing_enums_pb2\n",
        "\n",
        "def selesaikan_rute_kendaraan():\n",
        "    # Definisikan matriks jarak\n",
        "    matriks_jarak = [\n",
        "        [0, 10, 15, 20, 25],\n",
        "        [10, 0, 35, 25, 30],\n",
        "        [15, 35, 0, 30, 20],\n",
        "        [20, 25, 30, 0, 15],\n",
        "        [25, 30, 20, 15, 0]\n",
        "    ]\n",
        "\n",
        "    jumlah_lokasi = len(matriks_jarak)\n",
        "    jumlah_kendaraan = 1\n",
        "    depot = 0\n",
        "\n",
        "    # Buat manajer indeks rute\n",
        "    manajer = pywrapcp.RoutingIndexManager(jumlah_lokasi, jumlah_kendaraan, depot)\n",
        "\n",
        "    # Buat Model Perutean\n",
        "    perutean = pywrapcp.RoutingModel(manajer)\n",
        "\n",
        "    # Fungsi callback jarak\n",
        "    def callback_jarak(dari_indeks, ke_indeks):\n",
        "        dari_node = manajer.IndexToNode(dari_indeks)\n",
        "        ke_node = manajer.IndexToNode(ke_indeks)\n",
        "        return matriks_jarak[dari_node][ke_node]\n",
        "\n",
        "    indeks_callback_transit = perutean.RegisterTransitCallback(callback_jarak)\n",
        "    perutean.SetArcCostEvaluatorOfAllVehicles(indeks_callback_transit)\n",
        "\n",
        "    # Definisikan parameter pencarian\n",
        "    parameter_pencarian = pywrapcp.DefaultRoutingSearchParameters()\n",
        "    parameter_pencarian.first_solution_strategy = (\n",
        "        routing_enums_pb2.FirstSolutionStrategy.PATH_CHEAPEST_ARC)\n",
        "\n",
        "    # Selesaikan masalah\n",
        "    solusi = perutean.SolveWithParameters(parameter_pencarian)\n",
        "\n",
        "    # Cetak solusi\n",
        "    if solusi:\n",
        "        print(\"Rute optimal ditemukan:\")\n",
        "        indeks = perutean.Start(0)\n",
        "        rute = []\n",
        "        while not perutean.IsEnd(indeks):\n",
        "            rute.append(manajer.IndexToNode(indeks))\n",
        "            indeks = solusi.Value(perutean.NextVar(indeks))\n",
        "        rute.append(manajer.IndexToNode(indeks))\n",
        "        print(\" -> \".join(map(str, rute)))\n",
        "        print(\"Total Jarak:\", solusi.ObjectiveValue())\n",
        "    else:\n",
        "        print(\"Tidak ada solusi optimal yang ditemukan.\")\n",
        "\n",
        "if __name__ == \"__main__\":\n",
        "    selesaikan_rute_kendaraan()\n"
      ],
      "metadata": {
        "id": "WW45xchi7_ZZ",
        "outputId": "2e9254f2-15b0-497e-c875-12488c09d89d",
        "colab": {
          "base_uri": "https://localhost:8080/"
        }
      },
      "id": "WW45xchi7_ZZ",
      "execution_count": 2,
      "outputs": [
        {
          "output_type": "stream",
          "name": "stdout",
          "text": [
            "Rute optimal ditemukan:\n",
            "0 -> 1 -> 3 -> 4 -> 2 -> 0\n",
            "Total Jarak: 85\n"
          ]
        }
      ]
    },
    {
      "cell_type": "markdown",
      "source": [],
      "metadata": {
        "id": "hWPASoNg7_J5"
      },
      "id": "hWPASoNg7_J5"
    }
  ],
  "metadata": {
    "language_info": {
      "name": "python"
    },
    "colab": {
      "provenance": []
    },
    "kernelspec": {
      "name": "python3",
      "display_name": "Python 3"
    }
  },
  "nbformat": 4,
  "nbformat_minor": 5
}