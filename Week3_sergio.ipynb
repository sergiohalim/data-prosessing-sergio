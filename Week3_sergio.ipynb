{
  "nbformat": 4,
  "nbformat_minor": 0,
  "metadata": {
    "colab": {
      "provenance": []
    },
    "kernelspec": {
      "name": "python3",
      "display_name": "Python 3"
    },
    "language_info": {
      "name": "python"
    }
  },
  "cells": [
    {
      "cell_type": "markdown",
      "source": [
        "Nama : Bernadus Sergio Halim\n",
        "Nim : 0706022210056\n",
        "Tanggal pemberian tugas : 7/3/2025\n"
      ],
      "metadata": {
        "id": "OQFZzJC5dNpP"
      }
    },
    {
      "cell_type": "code",
      "execution_count": null,
      "metadata": {
        "colab": {
          "base_uri": "https://localhost:8080/"
        },
        "id": "BjHRLKSAaCBe",
        "outputId": "0c2d909d-adde-4df7-e57c-a70d986748f5"
      },
      "outputs": [
        {
          "output_type": "stream",
          "name": "stdout",
          "text": [
            "Requirement already satisfied: ortools in /usr/local/lib/python3.11/dist-packages (9.12.4544)\n",
            "Requirement already satisfied: absl-py>=2.0.0 in /usr/local/lib/python3.11/dist-packages (from ortools) (2.1.0)\n",
            "Requirement already satisfied: numpy>=1.13.3 in /usr/local/lib/python3.11/dist-packages (from ortools) (1.26.4)\n",
            "Requirement already satisfied: pandas>=2.0.0 in /usr/local/lib/python3.11/dist-packages (from ortools) (2.2.2)\n",
            "Requirement already satisfied: protobuf<5.30,>=5.29.3 in /usr/local/lib/python3.11/dist-packages (from ortools) (5.29.3)\n",
            "Requirement already satisfied: immutabledict>=3.0.0 in /usr/local/lib/python3.11/dist-packages (from ortools) (4.2.1)\n",
            "Requirement already satisfied: python-dateutil>=2.8.2 in /usr/local/lib/python3.11/dist-packages (from pandas>=2.0.0->ortools) (2.8.2)\n",
            "Requirement already satisfied: pytz>=2020.1 in /usr/local/lib/python3.11/dist-packages (from pandas>=2.0.0->ortools) (2025.1)\n",
            "Requirement already satisfied: tzdata>=2022.7 in /usr/local/lib/python3.11/dist-packages (from pandas>=2.0.0->ortools) (2025.1)\n",
            "Requirement already satisfied: six>=1.5 in /usr/local/lib/python3.11/dist-packages (from python-dateutil>=2.8.2->pandas>=2.0.0->ortools) (1.17.0)\n",
            "Requirement already satisfied: ortools in /usr/local/lib/python3.11/dist-packages (9.12.4544)\n",
            "Requirement already satisfied: absl-py>=2.0.0 in /usr/local/lib/python3.11/dist-packages (from ortools) (2.1.0)\n",
            "Requirement already satisfied: numpy>=1.13.3 in /usr/local/lib/python3.11/dist-packages (from ortools) (1.26.4)\n",
            "Requirement already satisfied: pandas>=2.0.0 in /usr/local/lib/python3.11/dist-packages (from ortools) (2.2.2)\n",
            "Requirement already satisfied: protobuf<5.30,>=5.29.3 in /usr/local/lib/python3.11/dist-packages (from ortools) (5.29.3)\n",
            "Requirement already satisfied: immutabledict>=3.0.0 in /usr/local/lib/python3.11/dist-packages (from ortools) (4.2.1)\n",
            "Requirement already satisfied: python-dateutil>=2.8.2 in /usr/local/lib/python3.11/dist-packages (from pandas>=2.0.0->ortools) (2.8.2)\n",
            "Requirement already satisfied: pytz>=2020.1 in /usr/local/lib/python3.11/dist-packages (from pandas>=2.0.0->ortools) (2025.1)\n",
            "Requirement already satisfied: tzdata>=2022.7 in /usr/local/lib/python3.11/dist-packages (from pandas>=2.0.0->ortools) (2025.1)\n",
            "Requirement already satisfied: six>=1.5 in /usr/local/lib/python3.11/dist-packages (from python-dateutil>=2.8.2->pandas>=2.0.0->ortools) (1.17.0)\n"
          ]
        }
      ],
      "source": [
        "%pip install ortools\n",
        "!pip install --upgrade --no-cache-dir ortools\n"
      ]
    },
    {
      "cell_type": "markdown",
      "source": [
        "Routing Problems"
      ],
      "metadata": {
        "id": "yNUmqkAIQE85"
      }
    },
    {
      "cell_type": "code",
      "source": [
        "from ortools.constraint_solver import routing_enums_pb2\n",
        "from ortools.constraint_solver import pywrapcp\n",
        "\n",
        "def create_data_model():\n",
        "    data = {}\n",
        "    data[\"distance_matrix\"] = [\n",
        "        [0, 10, 15, 20, 25, 30, 35],\n",
        "        [10, 0, 35, 25, 30, 45, 50],\n",
        "        [15, 35, 0, 30, 20, 25, 30],\n",
        "        [20, 25, 30, 0, 15, 20, 25],\n",
        "        [25, 30, 20, 15, 0, 35, 40],\n",
        "        [30, 45, 25, 20, 35, 0, 15],\n",
        "        [35, 50, 30, 25, 40, 15, 0],\n",
        "    ]\n",
        "    data[\"num_vehicles\"] = 3\n",
        "    data[\"depot\"] = 0\n",
        "    return data\n",
        "\n",
        "def print_solution(manager, routing, solution):\n",
        "    print(\"Objective: {}\".format(solution.ObjectiveValue()))\n",
        "    for vehicle_id in range(3):\n",
        "        index = routing.Start(vehicle_id)\n",
        "        route = []\n",
        "        while not routing.IsEnd(index):\n",
        "            route.append(manager.IndexToNode(index))\n",
        "            index = solution.Value(routing.NextVar(index))\n",
        "        route.append(manager.IndexToNode(index))\n",
        "        print(f\"Route for vehicle {vehicle_id}: {route}\")\n",
        "\n",
        "def main():\n",
        "    data = create_data_model()\n",
        "    manager = pywrapcp.RoutingIndexManager(\n",
        "        len(data[\"distance_matrix\"]), data[\"num_vehicles\"], data[\"depot\"]\n",
        "    )\n",
        "    routing = pywrapcp.RoutingModel(manager)\n",
        "\n",
        "    def distance_callback(from_index, to_index):\n",
        "        from_node = manager.IndexToNode(from_index)\n",
        "        to_node = manager.IndexToNode(to_index)\n",
        "        return data[\"distance_matrix\"][from_node][to_node]\n",
        "\n",
        "    transit_callback_index = routing.RegisterTransitCallback(distance_callback)\n",
        "    routing.SetArcCostEvaluatorOfAllVehicles(transit_callback_index)\n",
        "\n",
        "    search_parameters = pywrapcp.DefaultRoutingSearchParameters()\n",
        "    search_parameters.first_solution_strategy = (\n",
        "        routing_enums_pb2.FirstSolutionStrategy.PATH_CHEAPEST_ARC\n",
        "    )\n",
        "\n",
        "    solution = routing.SolveWithParameters(search_parameters)\n",
        "    if solution:\n",
        "        print_solution(manager, routing, solution)\n",
        "\n",
        "main()"
      ],
      "metadata": {
        "colab": {
          "base_uri": "https://localhost:8080/"
        },
        "id": "OqyoBkJgaNWQ",
        "outputId": "965c64d2-c6c3-4928-d2bc-06c22d0f1d5c"
      },
      "execution_count": null,
      "outputs": [
        {
          "output_type": "stream",
          "name": "stdout",
          "text": [
            "Objective: 145\n",
            "Route for vehicle 0: [0, 0]\n",
            "Route for vehicle 1: [0, 0]\n",
            "Route for vehicle 2: [0, 1, 3, 4, 2, 5, 6, 0]\n"
          ]
        }
      ]
    },
    {
      "cell_type": "markdown",
      "source": [
        "Linear programing (LP)  "
      ],
      "metadata": {
        "id": "8EiL2QLEQJTF"
      }
    },
    {
      "cell_type": "code",
      "source": [
        "from scipy.optimize import linprog\n",
        "\n",
        "# Koefisien fungsi objektif (maximization -> minimization dengan negatif)\n",
        "c = [-5000, -4000]  # Negatif karena linprog hanya bisa minimisasi\n",
        "\n",
        "# Koefisien kendala\n",
        "A = [\n",
        "    [2, 4],   # Jam kerja\n",
        "    [3, 2]    # Bahan baku\n",
        "]\n",
        "\n",
        "# Batasan kendala\n",
        "b = [40, 30]\n",
        "\n",
        "# Batasan variabel (x, y >= 0)\n",
        "x_bounds = (0, None)\n",
        "y_bounds = (0, None)\n",
        "\n",
        "# Penyelesaian Linear Programming\n",
        "result = linprog(c, A_ub=A, b_ub=b, bounds=[x_bounds, y_bounds], method='highs')\n",
        "\n",
        "# Menampilkan hasil\n",
        "if result.success:\n",
        "    x_opt, y_opt = result.x\n",
        "    max_profit = -result.fun  # Karena kita mengubah ke minimisasi\n",
        "    print(f\"Optimal Solution: Produk A = {x_opt:.2f}, Produk B = {y_opt:.2f}\")\n",
        "    print(f\"Maksimum Keuntungan: Rp{max_profit:.2f}\")\n",
        "else:\n",
        "    print(\"Solusi tidak ditemukan\")\n",
        "\n"
      ],
      "metadata": {
        "colab": {
          "base_uri": "https://localhost:8080/"
        },
        "id": "EFXpwPARQDwe",
        "outputId": "a9f5c471-0a74-49a3-d369-8d51e460fc0c"
      },
      "execution_count": null,
      "outputs": [
        {
          "output_type": "stream",
          "name": "stdout",
          "text": [
            "Optimal Solution: Produk A = 5.00, Produk B = 7.50\n",
            "Maksimum Keuntungan: Rp55000.00\n"
          ]
        }
      ]
    },
    {
      "cell_type": "markdown",
      "source": [
        "Constraint Programming (CP)"
      ],
      "metadata": {
        "id": "431YYdJ2Q-s9"
      }
    },
    {
      "cell_type": "code",
      "source": [
        "from ortools.sat.python import cp_model\n",
        "\n",
        "def solve_shift_scheduling():\n",
        "    model = cp_model.CpModel()\n",
        "\n",
        "    # Variabel untuk shift masing-masing karyawan\n",
        "    A = model.NewIntVar(1, 3, 'A')  # Karyawan A\n",
        "    B = model.NewIntVar(1, 3, 'B')  # Karyawan B\n",
        "    C = model.NewIntVar(1, 3, 'C')  # Karyawan C\n",
        "\n",
        "    # Kendala: Setiap karyawan harus memiliki shift yang berbeda\n",
        "    model.AddAllDifferent([A, B, C])\n",
        "\n",
        "    # Kendala: Karyawan A tidak boleh di shift malam (3)\n",
        "    model.Add(A != 3)\n",
        "\n",
        "    # Kendala: Karyawan B tidak boleh di shift pagi (1)\n",
        "    model.Add(B != 1)\n",
        "\n",
        "    # Solver\n",
        "    solver = cp_model.CpSolver()\n",
        "    status = solver.Solve(model)\n",
        "\n",
        "    if status == cp_model.FEASIBLE or status == cp_model.OPTIMAL:\n",
        "        print(f\"Karyawan A -> Shift {solver.Value(A)}\")\n",
        "        print(f\"Karyawan B -> Shift {solver.Value(B)}\")\n",
        "        print(f\"Karyawan C -> Shift {solver.Value(C)}\")\n",
        "    else:\n",
        "        print(\"Tidak ada solusi yang memenuhi kendala.\")\n",
        "\n",
        "# Jalankan program\n",
        "solve_shift_scheduling()\n"
      ],
      "metadata": {
        "colab": {
          "base_uri": "https://localhost:8080/"
        },
        "id": "HkZVb9UAQ93r",
        "outputId": "95ad85fb-2843-4726-c047-803014443cbf"
      },
      "execution_count": null,
      "outputs": [
        {
          "output_type": "stream",
          "name": "stdout",
          "text": [
            "Karyawan A -> Shift 1\n",
            "Karyawan B -> Shift 3\n",
            "Karyawan C -> Shift 2\n"
          ]
        }
      ]
    },
    {
      "cell_type": "markdown",
      "source": [
        "Bin Packing dan Knapsack Problems"
      ],
      "metadata": {
        "id": "__VPLVpkSCoS"
      }
    },
    {
      "cell_type": "code",
      "source": [
        "from scipy.optimize import linprog\n",
        "\n",
        "def bin_packing():\n",
        "    weights = [7, 5, 6, 3, 8, 4, 2]\n",
        "    capacity = 10\n",
        "    bins = []\n",
        "\n",
        "    while weights:\n",
        "        bin_weight = 0\n",
        "        bin_items = []\n",
        "        for item in sorted(weights, reverse=True):\n",
        "            if bin_weight + item <= capacity:\n",
        "                bin_items.append(item)\n",
        "                bin_weight += item\n",
        "\n",
        "        for item in bin_items:\n",
        "            weights.remove(item)\n",
        "\n",
        "        bins.append(bin_items)\n",
        "\n",
        "    print(f\"Jumlah minimum kotak yang dibutuhkan: {len(bins)}\")\n",
        "    for i, b in enumerate(bins):\n",
        "        print(f\"Kotak {i+1}: {b}\")\n",
        "\n",
        "bin_packing()\n"
      ],
      "metadata": {
        "colab": {
          "base_uri": "https://localhost:8080/"
        },
        "id": "oDPsRI5-SHDB",
        "outputId": "aa6c5963-2885-4122-fb65-72cd3483b97f"
      },
      "execution_count": null,
      "outputs": [
        {
          "output_type": "stream",
          "name": "stdout",
          "text": [
            "Jumlah minimum kotak yang dibutuhkan: 4\n",
            "Kotak 1: [8, 2]\n",
            "Kotak 2: [7, 3]\n",
            "Kotak 3: [6, 4]\n",
            "Kotak 4: [5]\n"
          ]
        }
      ]
    },
    {
      "cell_type": "markdown",
      "source": [
        "Graph Optimization"
      ],
      "metadata": {
        "id": "jsqY0p1qSGYX"
      }
    },
    {
      "cell_type": "code",
      "source": [
        "from ortools.constraint_solver import routing_enums_pb2\n",
        "from ortools.constraint_solver import pywrapcp\n",
        "\n",
        "def create_data_model():\n",
        "    \"\"\"Membuat data jarak antar kota.\"\"\"\n",
        "    data = {}\n",
        "    data[\"distance_matrix\"] = [\n",
        "        [0, 10, 15, 20, 25],\n",
        "        [10, 0, 35, 25, 30],\n",
        "        [15, 35, 0, 30, 20],\n",
        "        [20, 25, 30, 0, 15],\n",
        "        [25, 30, 20, 15, 0]\n",
        "    ]\n",
        "    data[\"num_vehicles\"] = 1\n",
        "    data[\"depot\"] = 0  # Kota awal (A)\n",
        "    return data\n",
        "\n",
        "def print_solution(manager, routing, solution):\n",
        "    \"\"\"Menampilkan hasil solusi.\"\"\"\n",
        "    print(\"Rute optimal:\")\n",
        "    index = routing.Start(0)\n",
        "    route = []\n",
        "    while not routing.IsEnd(index):\n",
        "        route.append(index)\n",
        "        index = solution.Value(routing.NextVar(index))\n",
        "    route.append(routing.End(0))\n",
        "    print(\" -> \".join(map(str, route)))\n",
        "\n",
        "def solve_tsp():\n",
        "    \"\"\"Menyelesaikan masalah Traveling Salesman Problem.\"\"\"\n",
        "    data = create_data_model()\n",
        "\n",
        "    # Membuat Routing Index Manager\n",
        "    manager = pywrapcp.RoutingIndexManager(len(data[\"distance_matrix\"]), data[\"num_vehicles\"], data[\"depot\"])\n",
        "\n",
        "    # Membuat Routing Model\n",
        "    routing = pywrapcp.RoutingModel(manager)\n",
        "\n",
        "    # Fungsi jarak antar kota\n",
        "    def distance_callback(from_index, to_index):\n",
        "        from_node = manager.IndexToNode(from_index)\n",
        "        to_node = manager.IndexToNode(to_index)\n",
        "        return data[\"distance_matrix\"][from_node][to_node]\n",
        "\n",
        "    transit_callback_index = routing.RegisterTransitCallback(distance_callback)\n",
        "    routing.SetArcCostEvaluatorOfAllVehicles(transit_callback_index)\n",
        "\n",
        "    # Menentukan algoritma pencarian solusi\n",
        "    search_parameters = pywrapcp.DefaultRoutingSearchParameters()\n",
        "    search_parameters.first_solution_strategy = routing_enums_pb2.FirstSolutionStrategy.PATH_CHEAPEST_ARC\n",
        "\n",
        "    # Menjalankan solver\n",
        "    solution = routing.SolveWithParameters(search_parameters)\n",
        "\n",
        "    # Menampilkan hasil\n",
        "    if solution:\n",
        "        print_solution(manager, routing, solution)\n",
        "    else:\n",
        "        print(\"Tidak ada solusi yang ditemukan.\")\n",
        "\n",
        "# Menjalankan solver\n",
        "solve_tsp()\n"
      ],
      "metadata": {
        "colab": {
          "base_uri": "https://localhost:8080/"
        },
        "id": "0vqYcb-bVulV",
        "outputId": "a7b5b910-bc59-4689-8ec7-469474b237cc"
      },
      "execution_count": null,
      "outputs": [
        {
          "output_type": "stream",
          "name": "stdout",
          "text": [
            "Rute optimal:\n",
            "0 -> 1 -> 3 -> 4 -> 2 -> 5\n"
          ]
        }
      ]
    }
  ]
}