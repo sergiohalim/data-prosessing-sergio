{
  "cells": [
    {
      "cell_type": "markdown",
      "id": "google",
      "metadata": {
        "id": "google"
      },
      "source": [
        "##### Copyright 2025 Google LLC."
      ]
    },
    {
      "cell_type": "markdown",
      "source": [
        "Nama : Bernadus Sergio Halim\n",
        "Nim : 0706022210056\n",
        "Tanggal pemberian tugas : 22/2/2025\n"
      ],
      "metadata": {
        "id": "tL_5vq0y2c4x"
      },
      "id": "tL_5vq0y2c4x"
    },
    {
      "cell_type": "markdown",
      "id": "apache",
      "metadata": {
        "id": "apache"
      },
      "source": [
        "Licensed under the Apache License, Version 2.0 (the \"License\");\n",
        "you may not use this file except in compliance with the License.\n",
        "You may obtain a copy of the License at\n",
        "\n",
        "    http://www.apache.org/licenses/LICENSE-2.0\n",
        "\n",
        "Unless required by applicable law or agreed to in writing, software\n",
        "distributed under the License is distributed on an \"AS IS\" BASIS,\n",
        "WITHOUT WARRANTIES OR CONDITIONS OF ANY KIND, either express or implied.\n",
        "See the License for the specific language governing permissions and\n",
        "limitations under the License.\n"
      ]
    },
    {
      "cell_type": "markdown",
      "source": [],
      "metadata": {
        "id": "iKAjQZx32cNG"
      },
      "id": "iKAjQZx32cNG"
    },
    {
      "cell_type": "markdown",
      "id": "basename",
      "metadata": {
        "id": "basename"
      },
      "source": [
        "# linear_programming_example"
      ]
    },
    {
      "cell_type": "markdown",
      "id": "link",
      "metadata": {
        "id": "link"
      },
      "source": [
        "<table align=\"left\">\n",
        "<td>\n",
        "<a href=\"https://colab.research.google.com/github/google/or-tools/blob/main/examples/notebook/linear_solver/linear_programming_example.ipynb\"><img src=\"https://raw.githubusercontent.com/google/or-tools/main/tools/colab_32px.png\"/>Run in Google Colab</a>\n",
        "</td>\n",
        "<td>\n",
        "<a href=\"https://github.com/google/or-tools/blob/main/ortools/linear_solver/samples/linear_programming_example.py\"><img src=\"https://raw.githubusercontent.com/google/or-tools/main/tools/github_32px.png\"/>View source on GitHub</a>\n",
        "</td>\n",
        "</table>"
      ]
    },
    {
      "cell_type": "markdown",
      "id": "doc",
      "metadata": {
        "id": "doc"
      },
      "source": [
        "First, you must install [ortools](https://pypi.org/project/ortools/) package in this colab."
      ]
    },
    {
      "cell_type": "code",
      "execution_count": 2,
      "id": "install",
      "metadata": {
        "id": "install",
        "outputId": "79ee2f43-19d7-46fa-945f-0e9643ce85dc",
        "colab": {
          "base_uri": "https://localhost:8080/"
        }
      },
      "outputs": [
        {
          "output_type": "stream",
          "name": "stdout",
          "text": [
            "Collecting ortools\n",
            "  Downloading ortools-9.12.4544-cp311-cp311-manylinux_2_27_x86_64.manylinux_2_28_x86_64.whl.metadata (3.3 kB)\n",
            "Collecting absl-py>=2.0.0 (from ortools)\n",
            "  Downloading absl_py-2.1.0-py3-none-any.whl.metadata (2.3 kB)\n",
            "Requirement already satisfied: numpy>=1.13.3 in /usr/local/lib/python3.11/dist-packages (from ortools) (1.26.4)\n",
            "Requirement already satisfied: pandas>=2.0.0 in /usr/local/lib/python3.11/dist-packages (from ortools) (2.2.2)\n",
            "Collecting protobuf<5.30,>=5.29.3 (from ortools)\n",
            "  Downloading protobuf-5.29.3-cp38-abi3-manylinux2014_x86_64.whl.metadata (592 bytes)\n",
            "Requirement already satisfied: immutabledict>=3.0.0 in /usr/local/lib/python3.11/dist-packages (from ortools) (4.2.1)\n",
            "Requirement already satisfied: python-dateutil>=2.8.2 in /usr/local/lib/python3.11/dist-packages (from pandas>=2.0.0->ortools) (2.8.2)\n",
            "Requirement already satisfied: pytz>=2020.1 in /usr/local/lib/python3.11/dist-packages (from pandas>=2.0.0->ortools) (2025.1)\n",
            "Requirement already satisfied: tzdata>=2022.7 in /usr/local/lib/python3.11/dist-packages (from pandas>=2.0.0->ortools) (2025.1)\n",
            "Requirement already satisfied: six>=1.5 in /usr/local/lib/python3.11/dist-packages (from python-dateutil>=2.8.2->pandas>=2.0.0->ortools) (1.17.0)\n",
            "Downloading ortools-9.12.4544-cp311-cp311-manylinux_2_27_x86_64.manylinux_2_28_x86_64.whl (24.9 MB)\n",
            "\u001b[2K   \u001b[90m━━━━━━━━━━━━━━━━━━━━━━━━━━━━━━━━━━━━━━━━\u001b[0m \u001b[32m24.9/24.9 MB\u001b[0m \u001b[31m37.5 MB/s\u001b[0m eta \u001b[36m0:00:00\u001b[0m\n",
            "\u001b[?25hDownloading absl_py-2.1.0-py3-none-any.whl (133 kB)\n",
            "\u001b[2K   \u001b[90m━━━━━━━━━━━━━━━━━━━━━━━━━━━━━━━━━━━━━━━━\u001b[0m \u001b[32m133.7/133.7 kB\u001b[0m \u001b[31m5.4 MB/s\u001b[0m eta \u001b[36m0:00:00\u001b[0m\n",
            "\u001b[?25hDownloading protobuf-5.29.3-cp38-abi3-manylinux2014_x86_64.whl (319 kB)\n",
            "\u001b[2K   \u001b[90m━━━━━━━━━━━━━━━━━━━━━━━━━━━━━━━━━━━━━━━━\u001b[0m \u001b[32m319.7/319.7 kB\u001b[0m \u001b[31m18.5 MB/s\u001b[0m eta \u001b[36m0:00:00\u001b[0m\n",
            "\u001b[?25hInstalling collected packages: protobuf, absl-py, ortools\n",
            "  Attempting uninstall: protobuf\n",
            "    Found existing installation: protobuf 4.25.6\n",
            "    Uninstalling protobuf-4.25.6:\n",
            "      Successfully uninstalled protobuf-4.25.6\n",
            "  Attempting uninstall: absl-py\n",
            "    Found existing installation: absl-py 1.4.0\n",
            "    Uninstalling absl-py-1.4.0:\n",
            "      Successfully uninstalled absl-py-1.4.0\n",
            "Successfully installed absl-py-2.1.0 ortools-9.12.4544 protobuf-5.29.3\n"
          ]
        }
      ],
      "source": [
        "%pip install ortools"
      ]
    },
    {
      "cell_type": "markdown",
      "id": "description",
      "metadata": {
        "id": "description"
      },
      "source": [
        "\n",
        "Linear optimization example."
      ]
    },
    {
      "cell_type": "code",
      "execution_count": 3,
      "id": "code",
      "metadata": {
        "id": "code",
        "outputId": "1b265b70-0dc0-4688-80dc-f07df3f79441",
        "colab": {
          "base_uri": "https://localhost:8080/"
        }
      },
      "outputs": [
        {
          "output_type": "stream",
          "name": "stdout",
          "text": [
            "Solution:\n",
            "x = 5.999999999999998\n",
            "y = 3.9999999999999996\n",
            "Optimal objective value = 33.99999999999999\n"
          ]
        }
      ],
      "source": [
        "from ortools.linear_solver import pywraplp\n",
        "\n",
        "def linear_programming_example():\n",
        "    # Create the solver using the GLOP backend\n",
        "    solver = pywraplp.Solver.CreateSolver('GLOP')\n",
        "    if not solver:\n",
        "        return\n",
        "\n",
        "    # Define the variables x and y\n",
        "    x = solver.NumVar(0, solver.infinity(), 'x')\n",
        "    y = solver.NumVar(0, solver.infinity(), 'y')\n",
        "\n",
        "    # Define the constraints\n",
        "    # Constraint 1: x + 2y ≤ 14\n",
        "    solver.Add(x + 2 * y <= 14)\n",
        "\n",
        "    # Constraint 2: 3x - y ≥ 0\n",
        "    solver.Add(3 * x - y >= 0)\n",
        "\n",
        "    # Constraint 3: x - y ≤ 2\n",
        "    solver.Add(x - y <= 2)\n",
        "\n",
        "    # Define the objective function: Maximize 3x + 4y\n",
        "    solver.Maximize(3 * x + 4 * y)\n",
        "\n",
        "    # Solve the problem\n",
        "    status = solver.Solve()\n",
        "\n",
        "    # Check the result\n",
        "    if status == pywraplp.Solver.OPTIMAL:\n",
        "        print('Solution:')\n",
        "        print('x =', x.solution_value())\n",
        "        print('y =', y.solution_value())\n",
        "        print('Optimal objective value =', solver.Objective().Value())\n",
        "    else:\n",
        "        print('The problem does not have an optimal solution.')\n",
        "\n",
        "if __name__ == '__main__':\n",
        "    linear_programming_example()\n"
      ]
    },
    {
      "cell_type": "markdown",
      "source": [
        "Soal:\n",
        "Sebuah pabrik memproduksi dua jenis produk: A dan B.\n",
        "\n",
        "Produk A memberikan keuntungan sebesar 3 unit per unit yang diproduksi.\n",
        "Produk B memberikan keuntungan sebesar 4 unit per unit yang diproduksi.\n",
        "Untuk memproduksi produk ini, terdapat tiga batasan sumber daya:\n",
        "Bahan baku: Setiap unit produk A membutuhkan 1 unit bahan baku, dan setiap unit produk B membutuhkan 2 unit bahan baku. Tersedia maksimal 14 unit bahan baku.\n",
        "Waktu produksi: Produk A membutuhkan 3 jam untuk diproduksi, sedangkan produk B membutuhkan 1 jam. Total waktu produksi tidak boleh melebihi 20 jam.\n",
        "Penyimpanan: Produk A dan B harus disimpan di gudang. Produk A membutuhkan 1 unit ruang penyimpanan, dan B juga membutuhkan 1 unit ruang penyimpanan. Kapasitas gudang hanya 10 unit.\n",
        "Pertanyaan:\n",
        "Berapa jumlah produk A dan B yang harus diproduksi untuk memaksimalkan keuntungan?"
      ],
      "metadata": {
        "id": "kRwlowsy1W0_"
      },
      "id": "kRwlowsy1W0_"
    },
    {
      "cell_type": "code",
      "source": [
        "from ortools.linear_solver import pywraplp\n",
        "\n",
        "def solve_linear_programming():\n",
        "    # Membuat solver dengan backend GLOP\n",
        "    solver = pywraplp.Solver.CreateSolver('GLOP')\n",
        "    if not solver:\n",
        "        return\n",
        "\n",
        "    # Variabel keputusan: jumlah produk A (x) dan B (y)\n",
        "    x = solver.NumVar(0, solver.infinity(), 'x')\n",
        "    y = solver.NumVar(0, solver.infinity(), 'y')\n",
        "\n",
        "    # Kendala (Constraints)\n",
        "    solver.Add(x + 2 * y <= 14)  # Bahan baku\n",
        "    solver.Add(3 * x + y <= 20)  # Waktu produksi\n",
        "    solver.Add(x + y <= 10)      # Kapasitas penyimpanan\n",
        "\n",
        "    # Fungsi objektif: Maksimalkan keuntungan 3x + 4y\n",
        "    solver.Maximize(3 * x + 4 * y)\n",
        "\n",
        "    # Menjalankan solver\n",
        "    status = solver.Solve()\n",
        "\n",
        "    # Menampilkan hasil\n",
        "    if status == pywraplp.Solver.OPTIMAL:\n",
        "        print('Solusi optimal ditemukan:')\n",
        "        print(f'Jumlah produk A yang diproduksi: {x.solution_value()}')\n",
        "        print(f'Jumlah produk B yang diproduksi: {y.solution_value()}')\n",
        "        print(f'Keuntungan maksimal: {solver.Objective().Value()}')\n",
        "    else:\n",
        "        print('Tidak ada solusi optimal.')\n",
        "\n",
        "if __name__ == '__main__':\n",
        "    solve_linear_programming()\n"
      ],
      "metadata": {
        "id": "NeRO7NsY1WeB",
        "outputId": "b22d6e16-81b2-4ebb-9ec8-da0df14d746d",
        "colab": {
          "base_uri": "https://localhost:8080/"
        }
      },
      "id": "NeRO7NsY1WeB",
      "execution_count": 4,
      "outputs": [
        {
          "output_type": "stream",
          "name": "stdout",
          "text": [
            "Solusi optimal ditemukan:\n",
            "Jumlah produk A yang diproduksi: 5.2\n",
            "Jumlah produk B yang diproduksi: 4.3999999999999995\n",
            "Keuntungan maksimal: 33.2\n"
          ]
        }
      ]
    },
    {
      "cell_type": "code",
      "source": [],
      "metadata": {
        "id": "0ULlBD2d1rTK"
      },
      "id": "0ULlBD2d1rTK",
      "execution_count": null,
      "outputs": []
    }
  ],
  "metadata": {
    "language_info": {
      "name": "python"
    },
    "colab": {
      "provenance": []
    },
    "kernelspec": {
      "name": "python3",
      "display_name": "Python 3"
    }
  },
  "nbformat": 4,
  "nbformat_minor": 5
}