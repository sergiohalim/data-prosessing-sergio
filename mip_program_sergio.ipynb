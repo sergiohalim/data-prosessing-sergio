{
  "cells": [
    {
      "cell_type": "markdown",
      "source": [
        "Nama : Bernadus Sergio Halim\n",
        "Nim : 0706022210056\n",
        "Tanggal pemberian tugas : 22/2/2025\n"
      ],
      "metadata": {
        "id": "Sgwv6Hmo541h"
      },
      "id": "Sgwv6Hmo541h"
    },
    {
      "cell_type": "markdown",
      "id": "google",
      "metadata": {
        "id": "google"
      },
      "source": [
        "##### Copyright 2025 Google LLC."
      ]
    },
    {
      "cell_type": "markdown",
      "id": "apache",
      "metadata": {
        "id": "apache"
      },
      "source": [
        "Licensed under the Apache License, Version 2.0 (the \"License\");\n",
        "you may not use this file except in compliance with the License.\n",
        "You may obtain a copy of the License at\n",
        "\n",
        "    http://www.apache.org/licenses/LICENSE-2.0\n",
        "\n",
        "Unless required by applicable law or agreed to in writing, software\n",
        "distributed under the License is distributed on an \"AS IS\" BASIS,\n",
        "WITHOUT WARRANTIES OR CONDITIONS OF ANY KIND, either express or implied.\n",
        "See the License for the specific language governing permissions and\n",
        "limitations under the License.\n"
      ]
    },
    {
      "cell_type": "markdown",
      "id": "basename",
      "metadata": {
        "id": "basename"
      },
      "source": [
        "# simple_mip_program"
      ]
    },
    {
      "cell_type": "markdown",
      "id": "link",
      "metadata": {
        "id": "link"
      },
      "source": [
        "<table align=\"left\">\n",
        "<td>\n",
        "<a href=\"https://colab.research.google.com/github/google/or-tools/blob/main/examples/notebook/linear_solver/simple_mip_program.ipynb\"><img src=\"https://raw.githubusercontent.com/google/or-tools/main/tools/colab_32px.png\"/>Run in Google Colab</a>\n",
        "</td>\n",
        "<td>\n",
        "<a href=\"https://github.com/google/or-tools/blob/main/ortools/linear_solver/samples/simple_mip_program.py\"><img src=\"https://raw.githubusercontent.com/google/or-tools/main/tools/github_32px.png\"/>View source on GitHub</a>\n",
        "</td>\n",
        "</table>"
      ]
    },
    {
      "cell_type": "markdown",
      "id": "doc",
      "metadata": {
        "id": "doc"
      },
      "source": [
        "First, you must install [ortools](https://pypi.org/project/ortools/) package in this colab."
      ]
    },
    {
      "cell_type": "code",
      "execution_count": 1,
      "id": "install",
      "metadata": {
        "id": "install",
        "outputId": "87f699a2-4151-4305-cf76-f13a5a5a488e",
        "colab": {
          "base_uri": "https://localhost:8080/"
        }
      },
      "outputs": [
        {
          "output_type": "stream",
          "name": "stdout",
          "text": [
            "Collecting ortools\n",
            "  Downloading ortools-9.12.4544-cp311-cp311-manylinux_2_27_x86_64.manylinux_2_28_x86_64.whl.metadata (3.3 kB)\n",
            "Collecting absl-py>=2.0.0 (from ortools)\n",
            "  Downloading absl_py-2.1.0-py3-none-any.whl.metadata (2.3 kB)\n",
            "Requirement already satisfied: numpy>=1.13.3 in /usr/local/lib/python3.11/dist-packages (from ortools) (1.26.4)\n",
            "Requirement already satisfied: pandas>=2.0.0 in /usr/local/lib/python3.11/dist-packages (from ortools) (2.2.2)\n",
            "Collecting protobuf<5.30,>=5.29.3 (from ortools)\n",
            "  Downloading protobuf-5.29.3-cp38-abi3-manylinux2014_x86_64.whl.metadata (592 bytes)\n",
            "Requirement already satisfied: immutabledict>=3.0.0 in /usr/local/lib/python3.11/dist-packages (from ortools) (4.2.1)\n",
            "Requirement already satisfied: python-dateutil>=2.8.2 in /usr/local/lib/python3.11/dist-packages (from pandas>=2.0.0->ortools) (2.8.2)\n",
            "Requirement already satisfied: pytz>=2020.1 in /usr/local/lib/python3.11/dist-packages (from pandas>=2.0.0->ortools) (2025.1)\n",
            "Requirement already satisfied: tzdata>=2022.7 in /usr/local/lib/python3.11/dist-packages (from pandas>=2.0.0->ortools) (2025.1)\n",
            "Requirement already satisfied: six>=1.5 in /usr/local/lib/python3.11/dist-packages (from python-dateutil>=2.8.2->pandas>=2.0.0->ortools) (1.17.0)\n",
            "Downloading ortools-9.12.4544-cp311-cp311-manylinux_2_27_x86_64.manylinux_2_28_x86_64.whl (24.9 MB)\n",
            "\u001b[2K   \u001b[90m━━━━━━━━━━━━━━━━━━━━━━━━━━━━━━━━━━━━━━━━\u001b[0m \u001b[32m24.9/24.9 MB\u001b[0m \u001b[31m27.1 MB/s\u001b[0m eta \u001b[36m0:00:00\u001b[0m\n",
            "\u001b[?25hDownloading absl_py-2.1.0-py3-none-any.whl (133 kB)\n",
            "\u001b[2K   \u001b[90m━━━━━━━━━━━━━━━━━━━━━━━━━━━━━━━━━━━━━━━━\u001b[0m \u001b[32m133.7/133.7 kB\u001b[0m \u001b[31m6.4 MB/s\u001b[0m eta \u001b[36m0:00:00\u001b[0m\n",
            "\u001b[?25hDownloading protobuf-5.29.3-cp38-abi3-manylinux2014_x86_64.whl (319 kB)\n",
            "\u001b[2K   \u001b[90m━━━━━━━━━━━━━━━━━━━━━━━━━━━━━━━━━━━━━━━━\u001b[0m \u001b[32m319.7/319.7 kB\u001b[0m \u001b[31m12.0 MB/s\u001b[0m eta \u001b[36m0:00:00\u001b[0m\n",
            "\u001b[?25hInstalling collected packages: protobuf, absl-py, ortools\n",
            "  Attempting uninstall: protobuf\n",
            "    Found existing installation: protobuf 4.25.6\n",
            "    Uninstalling protobuf-4.25.6:\n",
            "      Successfully uninstalled protobuf-4.25.6\n",
            "  Attempting uninstall: absl-py\n",
            "    Found existing installation: absl-py 1.4.0\n",
            "    Uninstalling absl-py-1.4.0:\n",
            "      Successfully uninstalled absl-py-1.4.0\n",
            "Successfully installed absl-py-2.1.0 ortools-9.12.4544 protobuf-5.29.3\n"
          ]
        }
      ],
      "source": [
        "%pip install ortools"
      ]
    },
    {
      "cell_type": "markdown",
      "id": "description",
      "metadata": {
        "id": "description"
      },
      "source": [
        "\n",
        "Integer programming examples that show how to use the APIs."
      ]
    },
    {
      "cell_type": "code",
      "execution_count": null,
      "id": "code",
      "metadata": {
        "id": "code"
      },
      "outputs": [],
      "source": [
        "from ortools.linear_solver import pywraplp\n",
        "\n",
        "\n",
        "def main():\n",
        "    # Create the mip solver with the CP-SAT backend.\n",
        "    solver = pywraplp.Solver.CreateSolver(\"SAT\")\n",
        "    if not solver:\n",
        "        return\n",
        "\n",
        "    infinity = solver.infinity()\n",
        "    # x and y are integer non-negative variables.\n",
        "    x = solver.IntVar(0.0, infinity, \"x\")\n",
        "    y = solver.IntVar(0.0, infinity, \"y\")\n",
        "\n",
        "    print(\"Number of variables =\", solver.NumVariables())\n",
        "\n",
        "    # x + 7 * y <= 17.5.\n",
        "    solver.Add(x + 7 * y <= 17.5)\n",
        "\n",
        "    # x <= 3.5.\n",
        "    solver.Add(x <= 3.5)\n",
        "\n",
        "    print(\"Number of constraints =\", solver.NumConstraints())\n",
        "\n",
        "    # Maximize x + 10 * y.\n",
        "    solver.Maximize(x + 10 * y)\n",
        "\n",
        "    print(f\"Solving with {solver.SolverVersion()}\")\n",
        "    status = solver.Solve()\n",
        "\n",
        "    if status == pywraplp.Solver.OPTIMAL:\n",
        "        print(\"Solution:\")\n",
        "        print(\"Objective value =\", solver.Objective().Value())\n",
        "        print(\"x =\", x.solution_value())\n",
        "        print(\"y =\", y.solution_value())\n",
        "    else:\n",
        "        print(\"The problem does not have an optimal solution.\")\n",
        "\n",
        "    print(\"\\nAdvanced usage:\")\n",
        "    print(f\"Problem solved in {solver.wall_time():d} milliseconds\")\n",
        "    print(f\"Problem solved in {solver.iterations():d} iterations\")\n",
        "    print(f\"Problem solved in {solver.nodes():d} branch-and-bound nodes\")\n",
        "\n",
        "\n",
        "main()\n",
        "\n"
      ]
    },
    {
      "cell_type": "markdown",
      "source": [
        "Berikut adalah contoh Mixed-Integer Programming (MIP) sederhana menggunakan Google OR-Tools dalam Python.\n",
        "Pernyataan Masalah:\n",
        "Sebuah pabrik memproduksi dua jenis produk, A dan B.\n",
        "Setiap unit A memberikan keuntungan sebesar 3.\n",
        "Setiap unit B memberikan keuntungan sebesar 4.\n",
        "Pabrik memiliki 14 unit bahan baku, dan setiap produk membutuhkan bahan baku sebagai berikut:\n",
        "1 unit untuk A\n",
        "2 unit untuk B\n",
        "Total waktu produksi yang tersedia adalah 20 jam:\n",
        "A membutuhkan 3 jam per unit\n",
        "B membutuhkan 1 jam per unit\n",
        "Pabrik hanya bisa memproduksi unit dalam bilangan bulat (integer).\n"
      ],
      "metadata": {
        "id": "DVIPS2zq4FUP"
      },
      "id": "DVIPS2zq4FUP"
    },
    {
      "cell_type": "code",
      "source": [
        "from ortools.linear_solver import pywraplp\n",
        "\n",
        "def selesaikan_program_integer_campuran():\n",
        "    # Buat solver dengan backend CBC untuk Mixed-Integer Programming\n",
        "    solver = pywraplp.Solver.CreateSolver('CBC')\n",
        "    if not solver:\n",
        "        return\n",
        "\n",
        "    # Variabel keputusan: nilai integer untuk produk A (x) dan B (y)\n",
        "    x = solver.IntVar(0, solver.infinity(), 'x')\n",
        "    y = solver.IntVar(0, solver.infinity(), 'y')\n",
        "\n",
        "    # Kendala\n",
        "    solver.Add(x + 2 * y <= 14)  # Kendala bahan baku\n",
        "    solver.Add(3 * x + y <= 20)  # Kendala waktu produksi\n",
        "\n",
        "    # Fungsi objektif: Maksimalkan keuntungan 3x + 4y\n",
        "    solver.Maximize(3 * x + 4 * y)\n",
        "\n",
        "    # Menyelesaikan masalah\n",
        "    status = solver.Solve()\n",
        "\n",
        "    # Menampilkan hasil\n",
        "    if status == pywraplp.Solver.OPTIMAL:\n",
        "        print('Solusi optimal ditemukan:')\n",
        "        print(f'Jumlah unit produk A yang diproduksi: {x.solution_value()}')\n",
        "        print(f'Jumlah unit produk B yang diproduksi: {y.solution_value()}')\n",
        "        print(f'Keuntungan maksimum: {solver.Objective().Value()}')\n",
        "    else:\n",
        "        print('Tidak ada solusi optimal yang ditemukan.')\n",
        "\n",
        "if __name__ == '__main__':\n",
        "    selesaikan_program_integer_campuran()\n"
      ],
      "metadata": {
        "id": "tRA2e_WI53LA",
        "outputId": "8764951a-27f5-4921-f9f0-c6b248790b1e",
        "colab": {
          "base_uri": "https://localhost:8080/"
        }
      },
      "id": "tRA2e_WI53LA",
      "execution_count": 2,
      "outputs": [
        {
          "output_type": "stream",
          "name": "stdout",
          "text": [
            "Solusi optimal ditemukan:\n",
            "Jumlah unit produk A yang diproduksi: 4.0\n",
            "Jumlah unit produk B yang diproduksi: 5.0\n",
            "Keuntungan maksimum: 32.0\n"
          ]
        }
      ]
    },
    {
      "cell_type": "code",
      "source": [],
      "metadata": {
        "id": "IVo-mWIx6I58"
      },
      "id": "IVo-mWIx6I58",
      "execution_count": null,
      "outputs": []
    }
  ],
  "metadata": {
    "language_info": {
      "name": "python"
    },
    "colab": {
      "provenance": []
    },
    "kernelspec": {
      "name": "python3",
      "display_name": "Python 3"
    }
  },
  "nbformat": 4,
  "nbformat_minor": 5
}